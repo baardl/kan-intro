{
 "cells": [
  {
   "cell_type": "markdown",
   "metadata": {
    "collapsed": false,
    "jupyter": {
     "outputs_hidden": false
    }
   },
   "source": [
    "# Validate login by time, service and user"
   ]
  },
  {
   "cell_type": "code",
   "execution_count": 1,
   "metadata": {
    "collapsed": false,
    "jupyter": {
     "outputs_hidden": false
    },
    "ExecuteTime": {
     "end_time": "2024-07-29T09:05:56.374027382Z",
     "start_time": "2024-07-29T09:05:46.686621921Z"
    }
   },
   "outputs": [
    {
     "name": "stdout",
     "output_type": "stream",
     "text": [
      "Collecting git+https://github.com/KindXiaoming/pykan.git@v0.1.2 (from -r ../requirements.txt (line 14))\r\n",
      "  Cloning https://github.com/KindXiaoming/pykan.git (to revision v0.1.2) to /tmp/pip-req-build-7kke5dhx\r\n",
      "  Running command git clone --filter=blob:none --quiet https://github.com/KindXiaoming/pykan.git /tmp/pip-req-build-7kke5dhx\r\n",
      "  Running command git checkout -q bdf298a93a72ccf9a341ff95a8a2b92e243e50c4\r\n",
      "  Resolved https://github.com/KindXiaoming/pykan.git to commit bdf298a93a72ccf9a341ff95a8a2b92e243e50c4\r\n",
      "  Preparing metadata (setup.py) ... \u001B[?25ldone\r\n",
      "\u001B[?25hRequirement already satisfied: joblib in /home/baardl/.local/lib/python3.11/site-packages (from -r ../requirements.txt (line 1)) (1.4.2)\r\n",
      "Requirement already satisfied: pandas in /home/baardl/.local/lib/python3.11/site-packages (from -r ../requirements.txt (line 2)) (1.5.3)\r\n",
      "Requirement already satisfied: matplotlib==3.6.2 in /home/baardl/.local/lib/python3.11/site-packages (from -r ../requirements.txt (line 3)) (3.6.2)\r\n",
      "Requirement already satisfied: numpy==1.24.4 in /home/baardl/.local/lib/python3.11/site-packages (from -r ../requirements.txt (line 4)) (1.24.4)\r\n",
      "Requirement already satisfied: scikit_learn==1.1.3 in /home/baardl/.local/lib/python3.11/site-packages (from -r ../requirements.txt (line 5)) (1.1.3)\r\n",
      "Requirement already satisfied: setuptools==65.5.0 in /home/baardl/.local/lib/python3.11/site-packages (from -r ../requirements.txt (line 6)) (65.5.0)\r\n",
      "Requirement already satisfied: sympy==1.11.1 in /home/baardl/.local/lib/python3.11/site-packages (from -r ../requirements.txt (line 7)) (1.11.1)\r\n",
      "Requirement already satisfied: torch==2.2.2 in /home/baardl/.local/lib/python3.11/site-packages (from -r ../requirements.txt (line 8)) (2.2.2)\r\n",
      "Requirement already satisfied: tqdm==4.66.2 in /home/baardl/.local/lib/python3.11/site-packages (from -r ../requirements.txt (line 9)) (4.66.2)\r\n",
      "Requirement already satisfied: dill in /home/baardl/.local/lib/python3.11/site-packages (from -r ../requirements.txt (line 10)) (0.3.8)\r\n",
      "Collecting moviepy\r\n",
      "  Using cached moviepy-1.0.3-py3-none-any.whl\r\n",
      "Requirement already satisfied: seaborn in /home/baardl/.local/lib/python3.11/site-packages (from -r ../requirements.txt (line 12)) (0.13.2)\r\n",
      "Requirement already satisfied: contourpy>=1.0.1 in /home/baardl/.local/lib/python3.11/site-packages (from matplotlib==3.6.2->-r ../requirements.txt (line 3)) (1.1.0)\r\n",
      "Requirement already satisfied: cycler>=0.10 in /home/baardl/.local/lib/python3.11/site-packages (from matplotlib==3.6.2->-r ../requirements.txt (line 3)) (0.11.0)\r\n",
      "Requirement already satisfied: fonttools>=4.22.0 in /home/baardl/.local/lib/python3.11/site-packages (from matplotlib==3.6.2->-r ../requirements.txt (line 3)) (4.42.1)\r\n",
      "Requirement already satisfied: kiwisolver>=1.0.1 in /home/baardl/.local/lib/python3.11/site-packages (from matplotlib==3.6.2->-r ../requirements.txt (line 3)) (1.4.5)\r\n",
      "Requirement already satisfied: packaging>=20.0 in /home/baardl/.local/lib/python3.11/site-packages (from matplotlib==3.6.2->-r ../requirements.txt (line 3)) (23.1)\r\n",
      "Requirement already satisfied: pillow>=6.2.0 in /home/baardl/.local/lib/python3.11/site-packages (from matplotlib==3.6.2->-r ../requirements.txt (line 3)) (10.0.0)\r\n",
      "Requirement already satisfied: pyparsing>=2.2.1 in /home/baardl/.local/lib/python3.11/site-packages (from matplotlib==3.6.2->-r ../requirements.txt (line 3)) (3.0.9)\r\n",
      "Requirement already satisfied: python-dateutil>=2.7 in /home/baardl/.local/lib/python3.11/site-packages (from matplotlib==3.6.2->-r ../requirements.txt (line 3)) (2.8.2)\r\n",
      "Requirement already satisfied: scipy>=1.3.2 in /home/baardl/.local/lib/python3.11/site-packages (from scikit_learn==1.1.3->-r ../requirements.txt (line 5)) (1.14.0)\r\n",
      "Requirement already satisfied: threadpoolctl>=2.0.0 in /home/baardl/.local/lib/python3.11/site-packages (from scikit_learn==1.1.3->-r ../requirements.txt (line 5)) (3.5.0)\r\n",
      "Requirement already satisfied: mpmath>=0.19 in /home/baardl/.local/lib/python3.11/site-packages (from sympy==1.11.1->-r ../requirements.txt (line 7)) (1.3.0)\r\n",
      "Requirement already satisfied: filelock in /home/baardl/.local/lib/python3.11/site-packages (from torch==2.2.2->-r ../requirements.txt (line 8)) (3.15.4)\r\n",
      "Requirement already satisfied: typing-extensions>=4.8.0 in /home/baardl/.local/lib/python3.11/site-packages (from torch==2.2.2->-r ../requirements.txt (line 8)) (4.12.2)\r\n",
      "Requirement already satisfied: networkx in /home/baardl/.local/lib/python3.11/site-packages (from torch==2.2.2->-r ../requirements.txt (line 8)) (3.3)\r\n",
      "Requirement already satisfied: jinja2 in /home/baardl/.local/lib/python3.11/site-packages (from torch==2.2.2->-r ../requirements.txt (line 8)) (3.1.2)\r\n",
      "Requirement already satisfied: fsspec in /home/baardl/.local/lib/python3.11/site-packages (from torch==2.2.2->-r ../requirements.txt (line 8)) (2024.6.1)\r\n",
      "Requirement already satisfied: nvidia-cuda-nvrtc-cu12==12.1.105 in /home/baardl/.local/lib/python3.11/site-packages (from torch==2.2.2->-r ../requirements.txt (line 8)) (12.1.105)\r\n",
      "Requirement already satisfied: nvidia-cuda-runtime-cu12==12.1.105 in /home/baardl/.local/lib/python3.11/site-packages (from torch==2.2.2->-r ../requirements.txt (line 8)) (12.1.105)\r\n",
      "Requirement already satisfied: nvidia-cuda-cupti-cu12==12.1.105 in /home/baardl/.local/lib/python3.11/site-packages (from torch==2.2.2->-r ../requirements.txt (line 8)) (12.1.105)\r\n",
      "Requirement already satisfied: nvidia-cudnn-cu12==8.9.2.26 in /home/baardl/.local/lib/python3.11/site-packages (from torch==2.2.2->-r ../requirements.txt (line 8)) (8.9.2.26)\r\n",
      "Requirement already satisfied: nvidia-cublas-cu12==12.1.3.1 in /home/baardl/.local/lib/python3.11/site-packages (from torch==2.2.2->-r ../requirements.txt (line 8)) (12.1.3.1)\r\n",
      "Requirement already satisfied: nvidia-cufft-cu12==11.0.2.54 in /home/baardl/.local/lib/python3.11/site-packages (from torch==2.2.2->-r ../requirements.txt (line 8)) (11.0.2.54)\r\n",
      "Requirement already satisfied: nvidia-curand-cu12==10.3.2.106 in /home/baardl/.local/lib/python3.11/site-packages (from torch==2.2.2->-r ../requirements.txt (line 8)) (10.3.2.106)\r\n",
      "Requirement already satisfied: nvidia-cusolver-cu12==11.4.5.107 in /home/baardl/.local/lib/python3.11/site-packages (from torch==2.2.2->-r ../requirements.txt (line 8)) (11.4.5.107)\r\n",
      "Requirement already satisfied: nvidia-cusparse-cu12==12.1.0.106 in /home/baardl/.local/lib/python3.11/site-packages (from torch==2.2.2->-r ../requirements.txt (line 8)) (12.1.0.106)\r\n",
      "Requirement already satisfied: nvidia-nccl-cu12==2.19.3 in /home/baardl/.local/lib/python3.11/site-packages (from torch==2.2.2->-r ../requirements.txt (line 8)) (2.19.3)\r\n",
      "Requirement already satisfied: nvidia-nvtx-cu12==12.1.105 in /home/baardl/.local/lib/python3.11/site-packages (from torch==2.2.2->-r ../requirements.txt (line 8)) (12.1.105)\r\n",
      "Requirement already satisfied: triton==2.2.0 in /home/baardl/.local/lib/python3.11/site-packages (from torch==2.2.2->-r ../requirements.txt (line 8)) (2.2.0)\r\n",
      "Requirement already satisfied: nvidia-nvjitlink-cu12 in /home/baardl/.local/lib/python3.11/site-packages (from nvidia-cusolver-cu12==11.4.5.107->torch==2.2.2->-r ../requirements.txt (line 8)) (12.5.82)\r\n",
      "Requirement already satisfied: pytz>=2020.1 in /home/baardl/.local/lib/python3.11/site-packages (from pandas->-r ../requirements.txt (line 2)) (2023.3)\r\n",
      "Collecting decorator<5.0,>=4.0.2\r\n",
      "  Using cached decorator-4.4.2-py2.py3-none-any.whl (9.2 kB)\r\n",
      "Requirement already satisfied: requests<3.0,>=2.8.1 in /home/baardl/.local/lib/python3.11/site-packages (from moviepy->-r ../requirements.txt (line 11)) (2.31.0)\r\n",
      "Collecting proglog<=1.0.0\r\n",
      "  Using cached proglog-0.1.10-py3-none-any.whl (6.1 kB)\r\n",
      "Collecting imageio<3.0,>=2.5\r\n",
      "  Using cached imageio-2.34.2-py3-none-any.whl (313 kB)\r\n",
      "Collecting imageio-ffmpeg>=0.2.0\r\n",
      "  Using cached imageio_ffmpeg-0.5.1-py3-none-manylinux2010_x86_64.whl (26.9 MB)\r\n",
      "Requirement already satisfied: six>=1.5 in /home/baardl/.local/lib/python3.11/site-packages (from python-dateutil>=2.7->matplotlib==3.6.2->-r ../requirements.txt (line 3)) (1.16.0)\r\n",
      "Requirement already satisfied: charset-normalizer<4,>=2 in /home/baardl/.local/lib/python3.11/site-packages (from requests<3.0,>=2.8.1->moviepy->-r ../requirements.txt (line 11)) (3.2.0)\r\n",
      "Requirement already satisfied: idna<4,>=2.5 in /home/baardl/.local/lib/python3.11/site-packages (from requests<3.0,>=2.8.1->moviepy->-r ../requirements.txt (line 11)) (3.4)\r\n",
      "Requirement already satisfied: urllib3<3,>=1.21.1 in /home/baardl/.local/lib/python3.11/site-packages (from requests<3.0,>=2.8.1->moviepy->-r ../requirements.txt (line 11)) (2.0.4)\r\n",
      "Requirement already satisfied: certifi>=2017.4.17 in /home/baardl/.local/lib/python3.11/site-packages (from requests<3.0,>=2.8.1->moviepy->-r ../requirements.txt (line 11)) (2023.7.22)\r\n",
      "Requirement already satisfied: MarkupSafe>=2.0 in /home/baardl/.local/lib/python3.11/site-packages (from jinja2->torch==2.2.2->-r ../requirements.txt (line 8)) (2.1.3)\r\n",
      "Installing collected packages: proglog, imageio-ffmpeg, imageio, decorator, moviepy\r\n",
      "  Attempting uninstall: decorator\r\n",
      "    Found existing installation: decorator 5.1.1\r\n",
      "    Uninstalling decorator-5.1.1:\r\n",
      "      Successfully uninstalled decorator-5.1.1\r\n",
      "Successfully installed decorator-4.4.2 imageio-2.34.2 imageio-ffmpeg-0.5.1 moviepy-1.0.3 proglog-0.1.10\r\n"
     ]
    }
   ],
   "source": [
    "!pip install -r ../requirements.txt"
   ]
  },
  {
   "cell_type": "markdown",
   "metadata": {
    "ExecuteTime": {
     "end_time": "2024-07-12T11:01:48.738530778Z",
     "start_time": "2024-07-12T11:01:48.629648753Z"
    },
    "collapsed": false,
    "jupyter": {
     "outputs_hidden": false
    }
   },
   "source": [
    "tt"
   ]
  },
  {
   "cell_type": "markdown",
   "metadata": {
    "ExecuteTime": {
     "end_time": "2024-07-12T11:01:53.282152481Z",
     "start_time": "2024-07-12T11:01:53.269811869Z"
    },
    "collapsed": false,
    "jupyter": {
     "outputs_hidden": false
    }
   },
   "source": [
    "Lode the test data"
   ]
  },
  {
   "cell_type": "code",
   "execution_count": 2,
   "metadata": {
    "collapsed": false,
    "jupyter": {
     "outputs_hidden": false
    },
    "ExecuteTime": {
     "end_time": "2024-07-29T09:05:57.138694439Z",
     "start_time": "2024-07-29T09:05:56.378852995Z"
    }
   },
   "outputs": [
    {
     "data": {
      "text/plain": "      geography            service  user weekday\n0  Kristiansand  brukeranmeldelser  Kari  Sunday\n1     Trondheim          meldinger  Kari  Sunday\n2     Stavanger      innstillinger  Nils  Sunday\n3        Bergen      innstillinger  Nils  Sunday\n4     Stavanger  brukeranmeldelser   Per  Sunday",
      "text/html": "<div>\n<style scoped>\n    .dataframe tbody tr th:only-of-type {\n        vertical-align: middle;\n    }\n\n    .dataframe tbody tr th {\n        vertical-align: top;\n    }\n\n    .dataframe thead th {\n        text-align: right;\n    }\n</style>\n<table border=\"1\" class=\"dataframe\">\n  <thead>\n    <tr style=\"text-align: right;\">\n      <th></th>\n      <th>geography</th>\n      <th>service</th>\n      <th>user</th>\n      <th>weekday</th>\n    </tr>\n  </thead>\n  <tbody>\n    <tr>\n      <th>0</th>\n      <td>Kristiansand</td>\n      <td>brukeranmeldelser</td>\n      <td>Kari</td>\n      <td>Sunday</td>\n    </tr>\n    <tr>\n      <th>1</th>\n      <td>Trondheim</td>\n      <td>meldinger</td>\n      <td>Kari</td>\n      <td>Sunday</td>\n    </tr>\n    <tr>\n      <th>2</th>\n      <td>Stavanger</td>\n      <td>innstillinger</td>\n      <td>Nils</td>\n      <td>Sunday</td>\n    </tr>\n    <tr>\n      <th>3</th>\n      <td>Bergen</td>\n      <td>innstillinger</td>\n      <td>Nils</td>\n      <td>Sunday</td>\n    </tr>\n    <tr>\n      <th>4</th>\n      <td>Stavanger</td>\n      <td>brukeranmeldelser</td>\n      <td>Per</td>\n      <td>Sunday</td>\n    </tr>\n  </tbody>\n</table>\n</div>"
     },
     "execution_count": 2,
     "metadata": {},
     "output_type": "execute_result"
    }
   ],
   "source": [
    "import torch\n",
    "import matplotlib.pyplot as plt\n",
    "import pandas as pd\n",
    "df = pd.read_csv('login_data/login_data.csv')\n",
    "df.head()"
   ]
  },
  {
   "cell_type": "code",
   "execution_count": 3,
   "metadata": {
    "collapsed": false,
    "jupyter": {
     "outputs_hidden": false
    },
    "ExecuteTime": {
     "end_time": "2024-07-29T09:05:57.143211986Z",
     "start_time": "2024-07-29T09:05:57.139985356Z"
    }
   },
   "outputs": [
    {
     "data": {
      "text/plain": "Dropdown(options=('Kari', 'Nils', 'Per', 'Anne', 'Ola'), value='Kari')",
      "application/vnd.jupyter.widget-view+json": {
       "version_major": 2,
       "version_minor": 0,
       "model_id": "303a9141245843749cdf7eac2df4ea2e"
      }
     },
     "metadata": {},
     "output_type": "display_data"
    }
   ],
   "source": [
    "\n",
    "#df['user'].unique()\n",
    "import ipywidgets as widgets\n",
    "from IPython.display import display\n",
    "\n",
    "# Hent en liste av unike brukere\n",
    "unique_users = df['user'].unique()\n",
    "\n",
    "# Lag en dropdown-liste med unike brukere\n",
    "user_dropdown = widgets.Dropdown(options=unique_users)\n",
    "# Vis dropdown-listen\n",
    "display(user_dropdown)  # Viser brukeren 'per'"
   ]
  },
  {
   "cell_type": "code",
   "execution_count": 7,
   "outputs": [
    {
     "data": {
      "text/plain": "Dropdown(options=('brukeranmeldelser', 'meldinger', 'innstillinger', 'profil'), value='brukeranmeldelser')",
      "application/vnd.jupyter.widget-view+json": {
       "version_major": 2,
       "version_minor": 0,
       "model_id": "88fba30eeaf447218eaac3e64a61e630"
      }
     },
     "metadata": {},
     "output_type": "display_data"
    }
   ],
   "source": [
    "unique_services = df['service'].unique()\n",
    "service_dropdown = widgets.Dropdown(options=unique_services)\n",
    "display(service_dropdown)"
   ],
   "metadata": {
    "collapsed": false,
    "ExecuteTime": {
     "end_time": "2024-07-29T09:06:43.714091994Z",
     "start_time": "2024-07-29T09:06:43.706173747Z"
    }
   }
  },
  {
   "cell_type": "markdown",
   "metadata": {
    "ExecuteTime": {
     "end_time": "2024-07-12T11:02:00.007732723Z",
     "start_time": "2024-07-12T11:01:59.992589171Z"
    },
    "collapsed": false,
    "jupyter": {
     "outputs_hidden": false
    }
   },
   "source": [
    "## User by service and weekday"
   ]
  },
  {
   "cell_type": "code",
   "execution_count": 8,
   "metadata": {
    "collapsed": false,
    "jupyter": {
     "outputs_hidden": false
    },
    "ExecuteTime": {
     "end_time": "2024-07-29T09:06:48.378788740Z",
     "start_time": "2024-07-29T09:06:47.186307605Z"
    }
   },
   "outputs": [
    {
     "name": "stdout",
     "output_type": "stream",
     "text": [
      "Requirement already satisfied: seaborn in /home/baardl/.local/lib/python3.11/site-packages (0.13.2)\r\n",
      "Requirement already satisfied: numpy!=1.24.0,>=1.20 in /home/baardl/.local/lib/python3.11/site-packages (from seaborn) (1.24.4)\r\n",
      "Requirement already satisfied: pandas>=1.2 in /home/baardl/.local/lib/python3.11/site-packages (from seaborn) (1.5.3)\r\n",
      "Requirement already satisfied: matplotlib!=3.6.1,>=3.4 in /home/baardl/.local/lib/python3.11/site-packages (from seaborn) (3.6.2)\r\n",
      "Requirement already satisfied: contourpy>=1.0.1 in /home/baardl/.local/lib/python3.11/site-packages (from matplotlib!=3.6.1,>=3.4->seaborn) (1.1.0)\r\n",
      "Requirement already satisfied: cycler>=0.10 in /home/baardl/.local/lib/python3.11/site-packages (from matplotlib!=3.6.1,>=3.4->seaborn) (0.11.0)\r\n",
      "Requirement already satisfied: fonttools>=4.22.0 in /home/baardl/.local/lib/python3.11/site-packages (from matplotlib!=3.6.1,>=3.4->seaborn) (4.42.1)\r\n",
      "Requirement already satisfied: kiwisolver>=1.0.1 in /home/baardl/.local/lib/python3.11/site-packages (from matplotlib!=3.6.1,>=3.4->seaborn) (1.4.5)\r\n",
      "Requirement already satisfied: packaging>=20.0 in /home/baardl/.local/lib/python3.11/site-packages (from matplotlib!=3.6.1,>=3.4->seaborn) (23.1)\r\n",
      "Requirement already satisfied: pillow>=6.2.0 in /home/baardl/.local/lib/python3.11/site-packages (from matplotlib!=3.6.1,>=3.4->seaborn) (10.0.0)\r\n",
      "Requirement already satisfied: pyparsing>=2.2.1 in /home/baardl/.local/lib/python3.11/site-packages (from matplotlib!=3.6.1,>=3.4->seaborn) (3.0.9)\r\n",
      "Requirement already satisfied: python-dateutil>=2.7 in /home/baardl/.local/lib/python3.11/site-packages (from matplotlib!=3.6.1,>=3.4->seaborn) (2.8.2)\r\n",
      "Requirement already satisfied: pytz>=2020.1 in /home/baardl/.local/lib/python3.11/site-packages (from pandas>=1.2->seaborn) (2023.3)\r\n",
      "Requirement already satisfied: six>=1.5 in /home/baardl/.local/lib/python3.11/site-packages (from python-dateutil>=2.7->matplotlib!=3.6.1,>=3.4->seaborn) (1.16.0)\r\n"
     ]
    }
   ],
   "source": [
    "!pip install seaborn\n",
    "\n",
    "import seaborn as sns"
   ]
  },
  {
   "cell_type": "code",
   "execution_count": 9,
   "metadata": {
    "collapsed": false,
    "jupyter": {
     "outputs_hidden": false
    },
    "ExecuteTime": {
     "end_time": "2024-07-29T09:06:51.373858335Z",
     "start_time": "2024-07-29T09:06:51.327897272Z"
    }
   },
   "outputs": [
    {
     "ename": "KeyError",
     "evalue": "'date'",
     "output_type": "error",
     "traceback": [
      "\u001B[0;31m---------------------------------------------------------------------------\u001B[0m",
      "\u001B[0;31mKeyError\u001B[0m                                  Traceback (most recent call last)",
      "File \u001B[0;32m~/.local/lib/python3.11/site-packages/pandas/core/indexes/base.py:3802\u001B[0m, in \u001B[0;36mIndex.get_loc\u001B[0;34m(self, key, method, tolerance)\u001B[0m\n\u001B[1;32m   3801\u001B[0m \u001B[38;5;28;01mtry\u001B[39;00m:\n\u001B[0;32m-> 3802\u001B[0m     \u001B[38;5;28;01mreturn\u001B[39;00m \u001B[38;5;28;43mself\u001B[39;49m\u001B[38;5;241;43m.\u001B[39;49m\u001B[43m_engine\u001B[49m\u001B[38;5;241;43m.\u001B[39;49m\u001B[43mget_loc\u001B[49m\u001B[43m(\u001B[49m\u001B[43mcasted_key\u001B[49m\u001B[43m)\u001B[49m\n\u001B[1;32m   3803\u001B[0m \u001B[38;5;28;01mexcept\u001B[39;00m \u001B[38;5;167;01mKeyError\u001B[39;00m \u001B[38;5;28;01mas\u001B[39;00m err:\n",
      "File \u001B[0;32m~/.local/lib/python3.11/site-packages/pandas/_libs/index.pyx:138\u001B[0m, in \u001B[0;36mpandas._libs.index.IndexEngine.get_loc\u001B[0;34m()\u001B[0m\n",
      "File \u001B[0;32m~/.local/lib/python3.11/site-packages/pandas/_libs/index.pyx:165\u001B[0m, in \u001B[0;36mpandas._libs.index.IndexEngine.get_loc\u001B[0;34m()\u001B[0m\n",
      "File \u001B[0;32mpandas/_libs/hashtable_class_helper.pxi:5745\u001B[0m, in \u001B[0;36mpandas._libs.hashtable.PyObjectHashTable.get_item\u001B[0;34m()\u001B[0m\n",
      "File \u001B[0;32mpandas/_libs/hashtable_class_helper.pxi:5753\u001B[0m, in \u001B[0;36mpandas._libs.hashtable.PyObjectHashTable.get_item\u001B[0;34m()\u001B[0m\n",
      "\u001B[0;31mKeyError\u001B[0m: 'date'",
      "\nThe above exception was the direct cause of the following exception:\n",
      "\u001B[0;31mKeyError\u001B[0m                                  Traceback (most recent call last)",
      "Cell \u001B[0;32mIn[9], line 7\u001B[0m\n\u001B[1;32m      5\u001B[0m filtered_df \u001B[38;5;241m=\u001B[39m df[(df[\u001B[38;5;124m'\u001B[39m\u001B[38;5;124muser\u001B[39m\u001B[38;5;124m'\u001B[39m] \u001B[38;5;241m==\u001B[39m selectedUser) \u001B[38;5;241m&\u001B[39m (df[\u001B[38;5;124m'\u001B[39m\u001B[38;5;124mservice\u001B[39m\u001B[38;5;124m'\u001B[39m] \u001B[38;5;241m==\u001B[39m selectedService)]\n\u001B[1;32m      6\u001B[0m \u001B[38;5;66;03m# Få ukedagen som et tall\u001B[39;00m\n\u001B[0;32m----> 7\u001B[0m filtered_df[\u001B[38;5;124m'\u001B[39m\u001B[38;5;124mdate\u001B[39m\u001B[38;5;124m'\u001B[39m] \u001B[38;5;241m=\u001B[39m pd\u001B[38;5;241m.\u001B[39mto_datetime(\u001B[43mfiltered_df\u001B[49m\u001B[43m[\u001B[49m\u001B[38;5;124;43m'\u001B[39;49m\u001B[38;5;124;43mdate\u001B[39;49m\u001B[38;5;124;43m'\u001B[39;49m\u001B[43m]\u001B[49m)\n\u001B[1;32m      8\u001B[0m filtered_df[\u001B[38;5;124m'\u001B[39m\u001B[38;5;124mweekday\u001B[39m\u001B[38;5;124m'\u001B[39m] \u001B[38;5;241m=\u001B[39m filtered_df[\u001B[38;5;124m'\u001B[39m\u001B[38;5;124mdate\u001B[39m\u001B[38;5;124m'\u001B[39m]\u001B[38;5;241m.\u001B[39mdt\u001B[38;5;241m.\u001B[39mdayofweek\n\u001B[1;32m     10\u001B[0m \u001B[38;5;66;03m# Grupper etter 'weekday' og tell antall pålogginger\u001B[39;00m\n",
      "File \u001B[0;32m~/.local/lib/python3.11/site-packages/pandas/core/frame.py:3807\u001B[0m, in \u001B[0;36mDataFrame.__getitem__\u001B[0;34m(self, key)\u001B[0m\n\u001B[1;32m   3805\u001B[0m \u001B[38;5;28;01mif\u001B[39;00m \u001B[38;5;28mself\u001B[39m\u001B[38;5;241m.\u001B[39mcolumns\u001B[38;5;241m.\u001B[39mnlevels \u001B[38;5;241m>\u001B[39m \u001B[38;5;241m1\u001B[39m:\n\u001B[1;32m   3806\u001B[0m     \u001B[38;5;28;01mreturn\u001B[39;00m \u001B[38;5;28mself\u001B[39m\u001B[38;5;241m.\u001B[39m_getitem_multilevel(key)\n\u001B[0;32m-> 3807\u001B[0m indexer \u001B[38;5;241m=\u001B[39m \u001B[38;5;28;43mself\u001B[39;49m\u001B[38;5;241;43m.\u001B[39;49m\u001B[43mcolumns\u001B[49m\u001B[38;5;241;43m.\u001B[39;49m\u001B[43mget_loc\u001B[49m\u001B[43m(\u001B[49m\u001B[43mkey\u001B[49m\u001B[43m)\u001B[49m\n\u001B[1;32m   3808\u001B[0m \u001B[38;5;28;01mif\u001B[39;00m is_integer(indexer):\n\u001B[1;32m   3809\u001B[0m     indexer \u001B[38;5;241m=\u001B[39m [indexer]\n",
      "File \u001B[0;32m~/.local/lib/python3.11/site-packages/pandas/core/indexes/base.py:3804\u001B[0m, in \u001B[0;36mIndex.get_loc\u001B[0;34m(self, key, method, tolerance)\u001B[0m\n\u001B[1;32m   3802\u001B[0m     \u001B[38;5;28;01mreturn\u001B[39;00m \u001B[38;5;28mself\u001B[39m\u001B[38;5;241m.\u001B[39m_engine\u001B[38;5;241m.\u001B[39mget_loc(casted_key)\n\u001B[1;32m   3803\u001B[0m \u001B[38;5;28;01mexcept\u001B[39;00m \u001B[38;5;167;01mKeyError\u001B[39;00m \u001B[38;5;28;01mas\u001B[39;00m err:\n\u001B[0;32m-> 3804\u001B[0m     \u001B[38;5;28;01mraise\u001B[39;00m \u001B[38;5;167;01mKeyError\u001B[39;00m(key) \u001B[38;5;28;01mfrom\u001B[39;00m \u001B[38;5;21;01merr\u001B[39;00m\n\u001B[1;32m   3805\u001B[0m \u001B[38;5;28;01mexcept\u001B[39;00m \u001B[38;5;167;01mTypeError\u001B[39;00m:\n\u001B[1;32m   3806\u001B[0m     \u001B[38;5;66;03m# If we have a listlike key, _check_indexing_error will raise\u001B[39;00m\n\u001B[1;32m   3807\u001B[0m     \u001B[38;5;66;03m#  InvalidIndexError. Otherwise we fall through and re-raise\u001B[39;00m\n\u001B[1;32m   3808\u001B[0m     \u001B[38;5;66;03m#  the TypeError.\u001B[39;00m\n\u001B[1;32m   3809\u001B[0m     \u001B[38;5;28mself\u001B[39m\u001B[38;5;241m.\u001B[39m_check_indexing_error(key)\n",
      "\u001B[0;31mKeyError\u001B[0m: 'date'"
     ]
    }
   ],
   "source": [
    "# selectedUser = 'Ola'\n",
    "selectedUser = user_dropdown.value\n",
    "selectedService = service_dropdown.value\n",
    "# Filtrer dataene for brukeren 'per' og tjenesten 'brukeranmeldelser'\n",
    "filtered_df = df[(df['user'] == selectedUser) & (df['service'] == selectedService)]\n",
    "# Få ukedagen som et tall\n",
    "filtered_df['date'] = pd.to_datetime(filtered_df['date'])\n",
    "filtered_df['weekday'] = filtered_df['date'].dt.dayofweek\n",
    "\n",
    "# Grupper etter 'weekday' og tell antall pålogginger\n",
    "weekday_counts = filtered_df['weekday'].value_counts().sort_index()\n",
    "weekday_counts\n",
    "\n"
   ]
  },
  {
   "cell_type": "code",
   "execution_count": 10,
   "metadata": {
    "collapsed": false,
    "jupyter": {
     "outputs_hidden": false
    },
    "ExecuteTime": {
     "end_time": "2024-07-29T09:06:53.118508385Z",
     "start_time": "2024-07-29T09:06:53.100948556Z"
    }
   },
   "outputs": [
    {
     "ename": "NameError",
     "evalue": "name 'weekday_counts' is not defined",
     "output_type": "error",
     "traceback": [
      "\u001B[0;31m---------------------------------------------------------------------------\u001B[0m",
      "\u001B[0;31mNameError\u001B[0m                                 Traceback (most recent call last)",
      "Cell \u001B[0;32mIn[10], line 3\u001B[0m\n\u001B[1;32m      1\u001B[0m \u001B[38;5;66;03m# Lag en barplot for å visualisere antall pålogginger per ukedag\u001B[39;00m\n\u001B[1;32m      2\u001B[0m plt\u001B[38;5;241m.\u001B[39mfigure(figsize\u001B[38;5;241m=\u001B[39m(\u001B[38;5;241m10\u001B[39m, \u001B[38;5;241m6\u001B[39m))\n\u001B[0;32m----> 3\u001B[0m sns\u001B[38;5;241m.\u001B[39mbarplot(x\u001B[38;5;241m=\u001B[39m\u001B[43mweekday_counts\u001B[49m\u001B[38;5;241m.\u001B[39mindex, y\u001B[38;5;241m=\u001B[39mweekday_counts\u001B[38;5;241m.\u001B[39mvalues, color\u001B[38;5;241m=\u001B[39m\u001B[38;5;124m'\u001B[39m\u001B[38;5;124mb\u001B[39m\u001B[38;5;124m'\u001B[39m)\n\u001B[1;32m      4\u001B[0m plt\u001B[38;5;241m.\u001B[39mxlabel(\u001B[38;5;124m'\u001B[39m\u001B[38;5;124mUkedag\u001B[39m\u001B[38;5;124m'\u001B[39m)\n\u001B[1;32m      5\u001B[0m plt\u001B[38;5;241m.\u001B[39mylabel(\u001B[38;5;124m'\u001B[39m\u001B[38;5;124mAntall pålogginger\u001B[39m\u001B[38;5;124m'\u001B[39m)\n",
      "\u001B[0;31mNameError\u001B[0m: name 'weekday_counts' is not defined"
     ]
    },
    {
     "data": {
      "text/plain": "<Figure size 1000x600 with 0 Axes>"
     },
     "metadata": {},
     "output_type": "display_data"
    }
   ],
   "source": [
    "# Lag en barplot for å visualisere antall pålogginger per ukedag\n",
    "plt.figure(figsize=(10, 6))\n",
    "sns.barplot(x=weekday_counts.index, y=weekday_counts.values, color='b')\n",
    "plt.xlabel('Ukedag')\n",
    "plt.ylabel('Antall pålogginger')\n",
    "plt.title(f'Antall pålogginger per ukedag for brukeren \"{selectedUser}\" på tjenesten \"{selectedService}\"')\n",
    "plt.show()"
   ]
  },
  {
   "cell_type": "code",
   "execution_count": null,
   "metadata": {
    "collapsed": false,
    "jupyter": {
     "outputs_hidden": false
    }
   },
   "outputs": [],
   "source": [
    "\n",
    "# selectedUser = 'Ola'\n",
    "# Filtrer dataene for brukeren 'per' og tjenesten 'brukeranmeldelser'\n",
    "# filtered_df = df[(df['user'] == selectedUser) & (df['service'] == 'brukeranmeldelser')]\n",
    "\n",
    "# Få ukedagen som et tall\n",
    "# filtered_df['date'] = pd.to_datetime(filtered_df['date'])\n",
    "# filtered_df['weekday'] = filtered_df['date'].dt.dayofweek\n",
    "\n",
    "# Grupper etter 'weekday' og 'geography' og tell antall pålogginger\n",
    "grouped_df = filtered_df.groupby(['weekday', 'geography']).size().reset_index(name='counts')\n",
    "\n",
    "# Lag en gruppe barplot for å visualisere antall pålogginger per ukedag for hver geografisk region\n",
    "plt.figure(figsize=(10, 6))\n",
    "sns.barplot(x='weekday', y='counts', hue='geography', data=grouped_df, palette='viridis')\n",
    "plt.xlabel('Ukedag')\n",
    "plt.ylabel('Antall pålogginger')\n",
    "plt.title(f'Antall pålogginger per ukedag for brukeren \"{selectedUser}\" på tjenesten \"{selectedService}\"')\n",
    "plt.show()"
   ]
  },
  {
   "cell_type": "markdown",
   "metadata": {
    "collapsed": false,
    "jupyter": {
     "outputs_hidden": false
    }
   },
   "source": [
    "# KAN"
   ]
  },
  {
   "cell_type": "code",
   "execution_count": null,
   "metadata": {
    "collapsed": false,
    "jupyter": {
     "outputs_hidden": false
    }
   },
   "outputs": [],
   "source": [
    "\n",
    "from kan import *\n",
    "\n",
    "from sklearn.model_selection import train_test_split\n",
    "from moviepy.video.io.ImageSequenceClip import ImageSequenceClip\n",
    "\n",
    "if torch.cuda.is_available():\n",
    "    device = torch.device(\"cuda\")\n",
    "else:\n",
    "    device = torch.device(\"cpu\")\n",
    "\n",
    "print(device)"
   ]
  },
  {
   "cell_type": "markdown",
   "metadata": {
    "collapsed": false,
    "jupyter": {
     "outputs_hidden": false
    }
   },
   "source": [
    "# KANimport matplotlib.pyplot as plt\n",
    "import seaborn as sns"
   ]
  },
  {
   "cell_type": "code",
   "execution_count": null,
   "metadata": {
    "collapsed": false,
    "jupyter": {
     "outputs_hidden": false
    }
   },
   "outputs": [],
   "source": [
    "# Konvertere tid fra minutter siden midnatt til et tidspunkt i løpet av dagen\n",
    "df['hour'] = df['time'] // 60\n",
    "\n",
    "# Konverter 'date' til datetime\n",
    "df['date'] = pd.to_datetime(df['date'])\n",
    "\n",
    "# Få ukedagen som et tall\n",
    "df['weekday'] = df['date'].dt.dayofweek\n",
    "\n",
    "# Konvertere kategoriske data til numeriske verdier\n",
    "df['weekday'] = df['weekday'].astype('category').cat.codes\n",
    "df['geography'] = df['geography'].astype('category').cat.codes\n",
    "df['service'] = df['service'].astype('category').cat.codes\n",
    "df['user'] = df['user'].astype('category').cat.codes\n",
    "\n",
    "# Velge relevante kolonner for KAN\n",
    "data_for_kan = df[['weekday', 'geography', 'service', 'user']]\n",
    "data_for_kan.head()"
   ]
  },
  {
   "cell_type": "code",
   "execution_count": null,
   "metadata": {
    "collapsed": false,
    "jupyter": {
     "outputs_hidden": false
    }
   },
   "outputs": [],
   "source": [
    "# Skriv ut unike verdier fra 'weekday'-kolonnen\n",
    "unique_values = df['weekday'].unique()\n",
    "print(unique_values)"
   ]
  },
  {
   "cell_type": "code",
   "execution_count": null,
   "metadata": {
    "collapsed": false,
    "jupyter": {
     "outputs_hidden": false
    }
   },
   "outputs": [],
   "source": [
    "# Konvertere til numpy arrays\n",
    "X = data_for_kan.values\n",
    "y = np.zeros(X.shape[0])  # Placeholder for målvariabel, kan brukes for unsupervised læring\n",
    "\n",
    "# Konvertere til PyTorch tensors\n",
    "X_tensor = torch.tensor(X, dtype=torch.float32)\n",
    "y_tensor = torch.tensor(y, dtype=torch.long)\n",
    "\n",
    "# Splitte datasettet i trenings- og testsett\n",
    "train_data, test_data, train_target, test_target = train_test_split(X_tensor, y_tensor, test_size=0.2, random_state=42)\n",
    "\n",
    "# Opprett data loaders (valgfritt, hvis du vil batch og shuffle data)\n",
    "train_loader = torch.utils.data.DataLoader(torch.utils.data.TensorDataset(train_data, train_target), batch_size=1, shuffle=True)\n",
    "test_loader = torch.utils.data.DataLoader(torch.utils.data.TensorDataset(test_data, test_target), batch_size=1, shuffle=False)\n",
    "\n",
    "train_inputs = torch.empty(0, 4, device=device)\n",
    "train_labels = torch.empty(0, dtype=torch.long, device=device)\n",
    "test_inputs = torch.empty(0, 4, device=device)\n",
    "test_labels = torch.empty(0, dtype=torch.long, device=device)\n",
    "\n",
    "for data, labels in train_loader:\n",
    "    train_inputs = torch.cat((train_inputs, data.to(device)), dim=0)\n",
    "    train_labels = torch.cat((train_labels, labels.to(device)), dim=0)\n",
    "\n",
    "for data, labels in test_loader:\n",
    "    test_inputs = torch.cat((test_inputs, data.to(device)), dim=0)\n",
    "    test_labels = torch.cat((test_labels, labels.to(device)), dim=0)\n",
    "\n",
    "dataset = {\n",
    "    'train_input': train_inputs,\n",
    "    'test_input': test_inputs,\n",
    "    'train_label': train_labels,\n",
    "    'test_label': test_labels\n",
    "}\n"
   ]
  },
  {
   "cell_type": "code",
   "execution_count": null,
   "metadata": {
    "collapsed": false,
    "jupyter": {
     "outputs_hidden": false
    }
   },
   "outputs": [],
   "source": [
    "image_folder = 'video_img'\n",
    "# Initialisere KAN med nødvendige parametere\n",
    "model = KAN(width=[4, 5, 2], grid=5, k=3, seed=0, device=device)\n",
    "model(dataset['train_input'])\n",
    "model.plot(beta=100, scale=1, in_vars=['day', 'geo', 'service', 'user'], out_vars=['Ok', 'Fail'])"
   ]
  },
  {
   "cell_type": "code",
   "execution_count": null,
   "metadata": {
    "collapsed": false,
    "jupyter": {
     "outputs_hidden": false
    }
   },
   "outputs": [],
   "source": [
    " # Definere trenings- og testfunksjoner for nøyaktighet\n",
    "def train_acc():\n",
    "    return torch.mean((torch.argmax(model(dataset['train_input']), dim=1) == dataset['train_label']).float())\n",
    "\n",
    "def test_acc():\n",
    "    return torch.mean((torch.argmax(model(dataset['test_input']), dim=1) == dataset['test_label']).float())\n",
    "\n",
    "# Trene modellen\n",
    "results = model.train(dataset, opt=\"Adam\", device=device, metrics=(train_acc, test_acc),\n",
    "                      loss_fn=torch.nn.CrossEntropyLoss(), steps=100, lamb=0.01, lamb_entropy=10., save_fig=True, img_folder=image_folder)\n",
    "\n",
    "\n",
    "print(f\"Train accuracy: {results['train_acc'][-1]}, Test accuracy: {results['test_acc'][-1]}\")\n"
   ]
  },
  {
   "cell_type": "code",
   "execution_count": null,
   "metadata": {
    "collapsed": false,
    "jupyter": {
     "outputs_hidden": false
    }
   },
   "outputs": [],
   "source": [
    "model.plot(scale=1, in_vars=['SL', 'SW', 'PL', 'PW'], out_vars=['Set', 'Ver', 'Vir'])"
   ]
  }
 ],
 "metadata": {
  "kernelspec": {
   "display_name": "Python 3 (ipykernel)",
   "language": "python",
   "name": "python3"
  },
  "language_info": {
   "codemirror_mode": {
    "name": "ipython",
    "version": 3
   },
   "file_extension": ".py",
   "mimetype": "text/x-python",
   "name": "python",
   "nbconvert_exporter": "python",
   "pygments_lexer": "ipython3",
   "version": "3.11.6"
  }
 },
 "nbformat": 4,
 "nbformat_minor": 4
}
