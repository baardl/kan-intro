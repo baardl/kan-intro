{
 "cells": [
  {
   "cell_type": "markdown",
   "source": [
    "# KAN med service access data\n",
    "Idee hentet fra https://github.com/team-daniel/KAN/blob/master/KAN_classification.ipynb\n"
   ],
   "metadata": {
    "collapsed": false
   }
  },
  {
   "cell_type": "code",
   "execution_count": 17,
   "outputs": [],
   "source": [
    "# Refresh dependencies\n",
    "#!pip install -r ../requirements.txt"
   ],
   "metadata": {
    "collapsed": false,
    "ExecuteTime": {
     "end_time": "2024-07-31T09:30:30.600657404Z",
     "start_time": "2024-07-31T09:30:30.569436492Z"
    }
   }
  },
  {
   "cell_type": "code",
   "execution_count": 18,
   "outputs": [
    {
     "data": {
      "text/plain": "  username  geography   weekday  servicename classification\n0     Nils     Hvaler  Saturday  userprofile             ok\n1      Ola       Oslo  Saturday        login             ok\n2     Nils     Hvaler    Monday        login             ok\n3     Nina     Bergen    Friday  userprofile             ok\n4     Nina  Trondhjem   Tuesday        order             ok",
      "text/html": "<div>\n<style scoped>\n    .dataframe tbody tr th:only-of-type {\n        vertical-align: middle;\n    }\n\n    .dataframe tbody tr th {\n        vertical-align: top;\n    }\n\n    .dataframe thead th {\n        text-align: right;\n    }\n</style>\n<table border=\"1\" class=\"dataframe\">\n  <thead>\n    <tr style=\"text-align: right;\">\n      <th></th>\n      <th>username</th>\n      <th>geography</th>\n      <th>weekday</th>\n      <th>servicename</th>\n      <th>classification</th>\n    </tr>\n  </thead>\n  <tbody>\n    <tr>\n      <th>0</th>\n      <td>Nils</td>\n      <td>Hvaler</td>\n      <td>Saturday</td>\n      <td>userprofile</td>\n      <td>ok</td>\n    </tr>\n    <tr>\n      <th>1</th>\n      <td>Ola</td>\n      <td>Oslo</td>\n      <td>Saturday</td>\n      <td>login</td>\n      <td>ok</td>\n    </tr>\n    <tr>\n      <th>2</th>\n      <td>Nils</td>\n      <td>Hvaler</td>\n      <td>Monday</td>\n      <td>login</td>\n      <td>ok</td>\n    </tr>\n    <tr>\n      <th>3</th>\n      <td>Nina</td>\n      <td>Bergen</td>\n      <td>Friday</td>\n      <td>userprofile</td>\n      <td>ok</td>\n    </tr>\n    <tr>\n      <th>4</th>\n      <td>Nina</td>\n      <td>Trondhjem</td>\n      <td>Tuesday</td>\n      <td>order</td>\n      <td>ok</td>\n    </tr>\n  </tbody>\n</table>\n</div>"
     },
     "execution_count": 18,
     "metadata": {},
     "output_type": "execute_result"
    }
   ],
   "source": [
    "import pandas as pd\n",
    "import numpy as np\n",
    "from sklearn.model_selection import train_test_split\n",
    "from sklearn.preprocessing import LabelEncoder\n",
    "from sklearn.ensemble import RandomForestClassifier\n",
    "from sklearn.metrics import classification_report, accuracy_score\n",
    "\n",
    "df = pd.read_csv('service_access_data/Generated_Access_Log_Dataset.csv')\n",
    "df.head()"
   ],
   "metadata": {
    "collapsed": false,
    "ExecuteTime": {
     "end_time": "2024-07-31T09:30:30.636072134Z",
     "start_time": "2024-07-31T09:30:30.581283325Z"
    }
   }
  },
  {
   "cell_type": "markdown",
   "source": [
    "# Beskrivelse av datasettet\n",
    "Dette er en tilgangslogg til tjenester i en butikk.\n",
    "Dette skal klassifisere forsøk på tjenestetilgang i tre klasser:\n",
    " * ok\n",
    " * error\n",
    " * suspicious\n",
    "\n",
    "Innput er 4 parametre:\n",
    " * username\n",
    " * geography\n",
    " * weekday\n",
    " * servicename\n",
    "\n",
    "Servicenames:\n",
    " * login\n",
    " * userprofile\n",
    " * userreview\n",
    " * order\n",
    "\n",
    "Geography er en forenkling av lokasjon til IP-adresse:\n",
    " * Hvaler\n",
    " * Bergen\n",
    " * Trondhjem\n",
    " * Oslo\n",
    " * Fredrikstad\n",
    "\n",
    "Usernames:\n",
    " * Nils, reiser mye, og kjøper mye. Legger aldri inn userreview\n",
    " * Ola, kjøper litt. Bruker butikken kun fra Oslo og Hvaler. Legger kun inn userreview på søndager, fra Oslo\n",
    " * Per, kan finne på å missbruke Nils og Ola sine logins. Bruker butikken kun fra Bergen\n",
    " * Hilde, bruker butikken fra Fredrikstad, Oslo og Hvaler. Random bruk av tjenester og dager.\n",
    " * Nina, bruker butikken fra Bergen og Trondhjem. Random bruk av tjenester og dager.\n",
    "\n",
    "## login.target_names\n",
    "Oversikt over det tre blomstertypene i datasettet. Kalles klasser, og oversettes til 0, 1 eller 2 i iris.target\n",
    "np.ndarray(['ok', 'failed', 'suspicious'], dtype='<U10')\n",
    "\n",
    "## login.target\n",
    "Hver rad er en , og kolonnen er hvilken klasse login tilhører. 0, 1 eller 2\n",
    "\n",
    "## iris.feature_names\n",
    "Beskriver hva de fire kolonnene i iris.data er. ['sepal length (cm)', 'sepal width (cm)', 'petal length (cm)', 'petal width (cm)']\n",
    "\n",
    "## iris.data\n",
    "Hver rad er en blomst, og kolonnene er sepal length, sepal width, petal length og petal width.\n",
    "150x4 numpy.ndarray."
   ],
   "metadata": {
    "collapsed": false
   }
  },
  {
   "cell_type": "code",
   "execution_count": 19,
   "outputs": [],
   "source": [
    "feature_names = ['username', 'geography', 'weekday', 'servicename']\n",
    "# Konvertere kategoriske variabler til numeriske\n",
    "label_encoders = {}\n",
    "for column in feature_names:\n",
    "    le = LabelEncoder()\n",
    "    df[column] = le.fit_transform(df[column])\n",
    "    label_encoders[column] = le\n",
    "\n",
    "# Definere input og output\n",
    "X = df[feature_names]\n",
    "y = df['classification']\n",
    "\n",
    "# Splitte data i trenings- og testsett\n",
    "X_train, X_test, y_train, y_test = train_test_split(X, y, test_size=0.2, random_state=42)\n"
   ],
   "metadata": {
    "collapsed": false,
    "ExecuteTime": {
     "end_time": "2024-07-31T09:30:30.644771556Z",
     "start_time": "2024-07-31T09:30:30.596252033Z"
    }
   }
  },
  {
   "cell_type": "code",
   "execution_count": 20,
   "outputs": [
    {
     "name": "stdout",
     "output_type": "stream",
     "text": [
      "iris.target_names\n",
      "Tjenestetilgangsklasser: ['error' 'ok' 'suspicious']\n"
     ]
    }
   ],
   "source": [
    "# login.target_names, Tjenestetilgangsklasser\n",
    "unique_values = np.unique(y)\n",
    "print(\"iris.target_names\")\n",
    "print(\"Tjenestetilgangsklasser:\", unique_values)"
   ],
   "metadata": {
    "collapsed": false,
    "ExecuteTime": {
     "end_time": "2024-07-31T09:30:30.645007787Z",
     "start_time": "2024-07-31T09:30:30.641758646Z"
    }
   }
  },
  {
   "cell_type": "code",
   "execution_count": 21,
   "outputs": [
    {
     "name": "stdout",
     "output_type": "stream",
     "text": [
      "iris.target\n"
     ]
    },
    {
     "data": {
      "text/plain": "0         ok\n1         ok\n2         ok\n3         ok\n4         ok\n       ...  \n995       ok\n996       ok\n997       ok\n998       ok\n999    error\nName: classification, Length: 1000, dtype: object"
     },
     "execution_count": 21,
     "metadata": {},
     "output_type": "execute_result"
    }
   ],
   "source": [
    "print(\"iris.target\")\n",
    "y"
   ],
   "metadata": {
    "collapsed": false,
    "ExecuteTime": {
     "end_time": "2024-07-31T09:30:30.645149655Z",
     "start_time": "2024-07-31T09:30:30.641924988Z"
    }
   }
  },
  {
   "cell_type": "code",
   "execution_count": 22,
   "outputs": [
    {
     "name": "stdout",
     "output_type": "stream",
     "text": [
      "iris.feature_names\n"
     ]
    },
    {
     "data": {
      "text/plain": "['username', 'geography', 'weekday', 'servicename']"
     },
     "execution_count": 22,
     "metadata": {},
     "output_type": "execute_result"
    }
   ],
   "source": [
    "# login.feature_names, Input parametre\n",
    "print(\"iris.feature_names\")\n",
    "feature_names"
   ],
   "metadata": {
    "collapsed": false,
    "ExecuteTime": {
     "end_time": "2024-07-31T09:30:30.645275087Z",
     "start_time": "2024-07-31T09:30:30.642051562Z"
    }
   }
  },
  {
   "cell_type": "code",
   "execution_count": 23,
   "outputs": [
    {
     "name": "stdout",
     "output_type": "stream",
     "text": [
      "iris.data\n"
     ]
    },
    {
     "data": {
      "text/plain": "     username  geography  weekday  servicename\n0           1          2        2            2\n1           3          3        2            0\n2           1          2        1            0\n3           2          0        0            2\n4           2          4        5            1\n..        ...        ...      ...          ...\n995         4          0        4            1\n996         3          3        0            1\n997         2          4        0            3\n998         0          2        5            0\n999         4          0        6            0\n\n[1000 rows x 4 columns]",
      "text/html": "<div>\n<style scoped>\n    .dataframe tbody tr th:only-of-type {\n        vertical-align: middle;\n    }\n\n    .dataframe tbody tr th {\n        vertical-align: top;\n    }\n\n    .dataframe thead th {\n        text-align: right;\n    }\n</style>\n<table border=\"1\" class=\"dataframe\">\n  <thead>\n    <tr style=\"text-align: right;\">\n      <th></th>\n      <th>username</th>\n      <th>geography</th>\n      <th>weekday</th>\n      <th>servicename</th>\n    </tr>\n  </thead>\n  <tbody>\n    <tr>\n      <th>0</th>\n      <td>1</td>\n      <td>2</td>\n      <td>2</td>\n      <td>2</td>\n    </tr>\n    <tr>\n      <th>1</th>\n      <td>3</td>\n      <td>3</td>\n      <td>2</td>\n      <td>0</td>\n    </tr>\n    <tr>\n      <th>2</th>\n      <td>1</td>\n      <td>2</td>\n      <td>1</td>\n      <td>0</td>\n    </tr>\n    <tr>\n      <th>3</th>\n      <td>2</td>\n      <td>0</td>\n      <td>0</td>\n      <td>2</td>\n    </tr>\n    <tr>\n      <th>4</th>\n      <td>2</td>\n      <td>4</td>\n      <td>5</td>\n      <td>1</td>\n    </tr>\n    <tr>\n      <th>...</th>\n      <td>...</td>\n      <td>...</td>\n      <td>...</td>\n      <td>...</td>\n    </tr>\n    <tr>\n      <th>995</th>\n      <td>4</td>\n      <td>0</td>\n      <td>4</td>\n      <td>1</td>\n    </tr>\n    <tr>\n      <th>996</th>\n      <td>3</td>\n      <td>3</td>\n      <td>0</td>\n      <td>1</td>\n    </tr>\n    <tr>\n      <th>997</th>\n      <td>2</td>\n      <td>4</td>\n      <td>0</td>\n      <td>3</td>\n    </tr>\n    <tr>\n      <th>998</th>\n      <td>0</td>\n      <td>2</td>\n      <td>5</td>\n      <td>0</td>\n    </tr>\n    <tr>\n      <th>999</th>\n      <td>4</td>\n      <td>0</td>\n      <td>6</td>\n      <td>0</td>\n    </tr>\n  </tbody>\n</table>\n<p>1000 rows × 4 columns</p>\n</div>"
     },
     "execution_count": 23,
     "metadata": {},
     "output_type": "execute_result"
    }
   ],
   "source": [
    "print(\"iris.data\")\n",
    "X"
   ],
   "metadata": {
    "collapsed": false,
    "ExecuteTime": {
     "end_time": "2024-07-31T09:30:30.717123011Z",
     "start_time": "2024-07-31T09:30:30.642159601Z"
    }
   }
  },
  {
   "cell_type": "markdown",
   "source": [
    "***\n",
    "# RandomForestClassifier"
   ],
   "metadata": {
    "collapsed": false
   }
  },
  {
   "cell_type": "code",
   "execution_count": 24,
   "outputs": [
    {
     "name": "stdout",
     "output_type": "stream",
     "text": [
      "              precision    recall  f1-score   support\n",
      "\n",
      "       error       0.08      0.04      0.06        23\n",
      "          ok       0.81      0.92      0.86       154\n",
      "  suspicious       0.75      0.39      0.51        23\n",
      "\n",
      "    accuracy                           0.76       200\n",
      "   macro avg       0.54      0.45      0.48       200\n",
      "weighted avg       0.72      0.76      0.73       200\n",
      "\n",
      "Accuracy: 0.755\n"
     ]
    }
   ],
   "source": [
    "# Velge og trene modellen\n",
    "model = RandomForestClassifier(random_state=42)\n",
    "model.fit(X_train, y_train)\n",
    "\n",
    "# Predikere og evaluere modellen\n",
    "y_pred = model.predict(X_test)\n",
    "print(classification_report(y_test, y_pred))\n",
    "print(f'Accuracy: {accuracy_score(y_test, y_pred)}')\n"
   ],
   "metadata": {
    "collapsed": false,
    "ExecuteTime": {
     "end_time": "2024-07-31T09:30:30.786576090Z",
     "start_time": "2024-07-31T09:30:30.664092751Z"
    }
   }
  },
  {
   "cell_type": "markdown",
   "source": [
    "***\n",
    "# Prediksjon"
   ],
   "metadata": {
    "collapsed": false
   }
  },
  {
   "cell_type": "code",
   "execution_count": 26,
   "outputs": [
    {
     "name": "stdout",
     "output_type": "stream",
     "text": [
      "The classification for the new request is: ok\n"
     ]
    }
   ],
   "source": [
    "# Ny serviceforespørsel\n",
    "new_request = {\n",
    "    'username': 'Ola',\n",
    "    'geography': 'Oslo',\n",
    "    'weekday': 'Sunday',\n",
    "    'servicename': 'userreview'\n",
    "}\n",
    "\n",
    "# Konvertere den nye forespørselen til numeriske verdier ved å bruke de opprinnelige label encoders\n",
    "new_request_encoded = {}\n",
    "for column in feature_names:\n",
    "    encoded_value = label_encoders[column].transform([new_request[column]])[0]\n",
    "    new_request_encoded[column] = [encoded_value]\n",
    "\n",
    "# Gjøre prediksjon\n",
    "new_request_df = pd.DataFrame(new_request_encoded)  # Bruke en DataFrame for prediksjon\n",
    "prediction = model.predict(new_request_df)\n",
    "\n",
    "# Skriv ut prediksjonen\n",
    "print(f'The classification for the new request is: {prediction[0]}')\n"
   ],
   "metadata": {
    "collapsed": false,
    "ExecuteTime": {
     "end_time": "2024-07-31T09:33:01.314212566Z",
     "start_time": "2024-07-31T09:33:01.271962067Z"
    }
   }
  },
  {
   "cell_type": "markdown",
   "source": [
    "## Suspect\n"
   ],
   "metadata": {
    "collapsed": false
   }
  },
  {
   "cell_type": "code",
   "execution_count": 27,
   "outputs": [
    {
     "name": "stdout",
     "output_type": "stream",
     "text": [
      "The classification for the new request is: suspicious\n"
     ]
    }
   ],
   "source": [
    "new_request = {\n",
    "    'username': 'Ola',\n",
    "    'geography': 'Bergen',\n",
    "    'weekday': 'Wednesday',\n",
    "    'servicename': 'userreview'\n",
    "}\n",
    "\n",
    "# Konvertere den nye forespørselen til numeriske verdier ved å bruke de opprinnelige label encoders\n",
    "new_request_encoded = {}\n",
    "for column in feature_names:\n",
    "    encoded_value = label_encoders[column].transform([new_request[column]])[0]\n",
    "    new_request_encoded[column] = [encoded_value]\n",
    "\n",
    "# Gjøre prediksjon\n",
    "new_request_df = pd.DataFrame(new_request_encoded)  # Bruke en DataFrame for prediksjon\n",
    "prediction = model.predict(new_request_df)\n",
    "\n",
    "# Skriv ut prediksjonen\n",
    "print(f'The classification for the new request is: {prediction[0]}')"
   ],
   "metadata": {
    "collapsed": false,
    "ExecuteTime": {
     "end_time": "2024-07-31T09:34:47.370119721Z",
     "start_time": "2024-07-31T09:34:47.324613998Z"
    }
   }
  },
  {
   "cell_type": "code",
   "execution_count": null,
   "outputs": [],
   "source": [],
   "metadata": {
    "collapsed": false
   }
  }
 ],
 "metadata": {
  "kernelspec": {
   "display_name": "Python 3",
   "language": "python",
   "name": "python3"
  },
  "language_info": {
   "codemirror_mode": {
    "name": "ipython",
    "version": 2
   },
   "file_extension": ".py",
   "mimetype": "text/x-python",
   "name": "python",
   "nbconvert_exporter": "python",
   "pygments_lexer": "ipython2",
   "version": "2.7.6"
  }
 },
 "nbformat": 4,
 "nbformat_minor": 0
}
